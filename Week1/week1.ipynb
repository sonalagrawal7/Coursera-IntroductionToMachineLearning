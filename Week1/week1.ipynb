{
 "cells": [
  {
   "cell_type": "markdown",
   "metadata": {},
   "source": [
    "# LogisticRegression\n",
    "\n",
    "## 3. Intro to Machine Learning\n",
    "#### Question 1\n",
    "Why is machine learning exciting? (Choose all that are correct.)\n",
    "\n",
    "* It is involved in many business applications.\n",
    "* It can automate tasks at human-level performance.\n",
    "\n",
    "#### Question 2\n",
    "Which of the following are examples of applications given in the first video? (Choose all that are correct.)\n",
    "\n",
    "* Playing Go\n",
    "* Image recognition\n",
    "\n",
    "#### Question 3\n",
    "Recent machine learning algorithms can identify classes in ImageNet as accurately as humans.\n",
    "\n",
    "* True\n",
    "\n"
   ]
  },
  {
   "cell_type": "markdown",
   "metadata": {},
   "source": [
    "## 6. Math for Data Science\n",
    "If the math notation used in this course is difficult to follow, you might want to take another Duke Coursera course, [Data Science Math Skills](https://www.coursera.org/learn/datasciencemathskills), which will give you a solid foundation in many math concepts needed to understand and use machine learning models and software."
   ]
  },
  {
   "cell_type": "markdown",
   "metadata": {},
   "source": [
    "## 8. Logistic Regression\n",
    "\n",
    "#### Question 1\n",
    "What kind of outcomes does logistic regression predict?\n",
    "\n",
    "Binary (true/false) outcomes\n",
    "\n",
    "#### Question 2\n",
    "What does the sigmoid function do?\n",
    "\n",
    "It converts a real-valued number to a probability of a positive outcome.\n",
    "\n",
    "#### Question 3\n",
    "Can logistic regression draw an appropriate decision boundary between the classes of this data?\n",
    "\n",
    "<img src=\"Images/example_2.png\">\n",
    "\n",
    "No\n",
    "\n"
   ]
  },
  {
   "cell_type": "markdown",
   "metadata": {},
   "source": [
    "## 9. Practical Lab\n",
    "\n",
    "1_9_Python_Prerequisites.ipynb"
   ]
  },
  {
   "cell_type": "markdown",
   "metadata": {},
   "source": [
    "==============================================================================================================\n"
   ]
  },
  {
   "cell_type": "markdown",
   "metadata": {},
   "source": [
    "# Multilayer Perceptron\n",
    "\n",
    "## 3. Multilayer Perceptron\n",
    "\n",
    "#### Question 1\n",
    "Which one of the following best describes a difference between logistic regression and multilayer perceptron models?\n",
    "\n",
    "Logistic regression maps the feature vector to a single \n",
    "real-valued number, while multilayer perceptron maps the feature vector \n",
    "to multiple real-valued numbers.\n",
    "\n",
    "#### Question 2\n",
    "Which one of the following is the best synonym for \"latent processes\"?\n",
    "\n",
    "Filter\n",
    "\n",
    "#### Question 3\n",
    "Which of the following is the best interpretation for this mathematical expression?\n",
    "<img src=\"Images/layer2_zeta.png\">\n",
    "\n",
    "Map K latent feature probabilities through a logistic regression.\n",
    "\n"
   ]
  },
  {
   "cell_type": "code",
   "execution_count": null,
   "metadata": {},
   "outputs": [],
   "source": []
  }
 ],
 "metadata": {
  "kernelspec": {
   "display_name": "Python 3",
   "language": "python",
   "name": "python3"
  },
  "language_info": {
   "codemirror_mode": {
    "name": "ipython",
    "version": 3
   },
   "file_extension": ".py",
   "mimetype": "text/x-python",
   "name": "python",
   "nbconvert_exporter": "python",
   "pygments_lexer": "ipython3",
   "version": "3.6.9"
  }
 },
 "nbformat": 4,
 "nbformat_minor": 2
}
