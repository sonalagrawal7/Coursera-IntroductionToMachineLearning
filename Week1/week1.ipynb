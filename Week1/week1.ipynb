{
 "cells": [
  {
   "cell_type": "markdown",
   "metadata": {},
   "source": [
    "# LogisticRegression\n",
    "\n",
    "## 3. Intro to Machine Learning\n",
    "#### Question 1\n",
    "Why is machine learning exciting? (Choose all that are correct.)\n",
    "\n",
    "* It is involved in many business applications.\n",
    "* It can automate tasks at human-level performance.\n",
    "\n",
    "#### Question 2\n",
    "Which of the following are examples of applications given in the first video? (Choose all that are correct.)\n",
    "\n",
    "* Playing Go\n",
    "* Image recognition\n",
    "\n",
    "#### Question 3\n",
    "Recent machine learning algorithms can identify classes in ImageNet as accurately as humans.\n",
    "\n",
    "* True\n",
    "\n"
   ]
  },
  {
   "cell_type": "markdown",
   "metadata": {},
   "source": [
    "## 6. Math for Data Science\n",
    "If the math notation used in this course is difficult to follow, you might want to take another Duke Coursera course, [Data Science Math Skills](https://www.coursera.org/learn/datasciencemathskills), which will give you a solid foundation in many math concepts needed to understand and use machine learning models and software."
   ]
  },
  {
   "cell_type": "markdown",
   "metadata": {},
   "source": [
    "## 8. Logistic Regression\n",
    "\n",
    "#### Question 1\n",
    "What kind of outcomes does logistic regression predict?\n",
    "\n",
    "Binary (true/false) outcomes\n",
    "\n",
    "#### Question 2\n",
    "What does the sigmoid function do?\n",
    "\n",
    "It converts a real-valued number to a probability of a positive outcome.\n",
    "\n",
    "#### Question 3\n",
    "Can logistic regression draw an appropriate decision boundary between the classes of this data?\n",
    "\n",
    "<img src=\"Images/example_2.png\">\n",
    "\n",
    "No\n",
    "\n"
   ]
  },
  {
   "cell_type": "markdown",
   "metadata": {},
   "source": [
    "## 9. Practical Lab\n",
    "\n",
    "1_9_Python_Prerequisites.ipynb"
   ]
  },
  {
   "cell_type": "markdown",
   "metadata": {},
   "source": [
    "==============================================================================================================\n"
   ]
  },
  {
   "cell_type": "markdown",
   "metadata": {},
   "source": [
    "# Multilayer Perceptron\n",
    "\n",
    "## 3. Multilayer Perceptron\n",
    "\n",
    "#### Question 1\n",
    "Which one of the following best describes a difference between logistic regression and multilayer perceptron models?\n",
    "\n",
    "Logistic regression maps the feature vector to a single \n",
    "real-valued number, while multilayer perceptron maps the feature vector \n",
    "to multiple real-valued numbers.\n",
    "\n",
    "#### Question 2\n",
    "Which one of the following is the best synonym for \"latent processes\"?\n",
    "\n",
    "Filter\n",
    "\n",
    "#### Question 3\n",
    "Which of the following is the best interpretation for this mathematical expression?\n",
    "<img src=\"Images/layer2_zeta.png\">\n",
    "\n",
    "Map K latent feature probabilities through a logistic regression.\n",
    "\n"
   ]
  },
  {
   "cell_type": "markdown",
   "metadata": {},
   "source": [
    "## 8. Deep Learning\n",
    "\n",
    "#### 1. Question 1\n",
    "Which one of the following best characterizes deep learning?\n",
    "\n",
    "Multiple layers of latent processes\n",
    "\n",
    "\n",
    "#### Question 2\n",
    "Using a multilayer perceptron for document analysis, which of the following is the best interpretation of the layer 1 filters b_1 through b_K?\n",
    "\n",
    "Topics, such as sports or history\n",
    "\n",
    "\n",
    "#### Question 3\n",
    "Using a multilayer perceptron for document analysis, which of the following is the best interpretation of the layer 2 filters c_1 through c_J?\n",
    "\n",
    "Meta-topics, such as history of sports or politics of sports"
   ]
  },
  {
   "cell_type": "markdown",
   "metadata": {},
   "source": [
    "## 10. Model Selection\n",
    "\n",
    "#### Question 1\n",
    "Given the following image of data classifications, which of the following models would you choose?\n",
    "\n",
    "<img src=\"Images/example_1.png\">\n",
    "\n",
    "Multilayer perceptron\n",
    "\n",
    "\n",
    "#### Question 2\n",
    "Given the following image of data classifications, which of the following models would you choose?\n",
    "\n",
    "<img src=\"Images/5_example_2.png\">\n",
    "\n",
    "Multilayer perceptron\n",
    "\n",
    "\n",
    "#### Question 3\n",
    "Given different sets of training data, in which model would you expect more variance in the learned parameters?\n",
    "\n",
    "Multilayer perceptron\n",
    "\n"
   ]
  },
  {
   "cell_type": "markdown",
   "metadata": {},
   "source": [
    "## 12. History of Neural Networks\n",
    "\n",
    "#### 1. Question 1\n",
    "When was the multilayer perceptron introduced?\n",
    "\n",
    "1960\n",
    "\n",
    "\n",
    "#### Question 2\n",
    "Why did neural networks not perform well \"in the wild\" in the early 1990s?\n",
    "\n",
    "Insufficient training data\n",
    "\n",
    "\n",
    "#### Question 3\n",
    "Which of the following contributed to neural networks outperforming humans in the task of image analysis? (Choose all that are correct.)\n",
    "\n",
    "* New, deeper network\n",
    "* GPU computational platform\n",
    "* Large set of training data\n",
    "\n"
   ]
  },
  {
   "cell_type": "markdown",
   "metadata": {},
   "source": [
    "# Convolutional Neural Networks\n",
    "\n",
    "## 4. CNN Concepts\n",
    "\n",
    "#### Question 1\n",
    "Which one of the following models, when used for image classification, can exceed the performance of humans?\n",
    "\n",
    "Convolutional neural network\n",
    "\n",
    "#### Question 2\n",
    "Which of the following best describes the hierarchical structure of images, listed from most complex to simplest?\n",
    "\n",
    "High-level motifs, sub-motifs, and atomic elements\n",
    "\n",
    "#### Question 3\n",
    "In the CNN explained in this lesson, which of the following allows a classification decision to be made?\n",
    "\n",
    "Layer 3 feature map\n"
   ]
  },
  {
   "cell_type": "markdown",
   "metadata": {},
   "source": [
    "## 8. CNN Math Model\n",
    "\n",
    "#### Question 1\n",
    "What is the outcome of convolving the layer 2 filters with the layer 1 feature maps?\n",
    "\n",
    "Layer 2 feature maps\n",
    "\n",
    "\n",
    "#### Question 2\n",
    "In general terms, the basic steps to do learning are:\n",
    "\n",
    "1. Obtain a large set of labeled data\n",
    "2. [ What goes here? ]\n",
    "3. Determine parameters that minimize the sum over loss\n",
    "\n",
    "Determine the loss function, which computes loss between true label and model label\n",
    "\n",
    "\n",
    "#### Question 3\n",
    "Why is learning hard? (Choose all that are correct.)\n",
    "\n",
    "* The parameters are computationally expensive to compute\n",
    "* There can be many local minima, even for two parameters\n",
    "* The parameter space is large"
   ]
  },
  {
   "cell_type": "markdown",
   "metadata": {},
   "source": [
    "# Applications in the Real World\n",
    "\n",
    "## 4. Applications In Use and Practice\n",
    "\n",
    "#### Question 1\n",
    "In the experiment where light was shined on mammalian retinas, what were found to be (almost exactly) the fundamental shapes that excited exactly one neuron?\n",
    "\n",
    "Layer 1 filters that CNN learns\n",
    "\n",
    "\n",
    "#### Question 2\n",
    "In the example network in this lesson, which layer of filter might have the shape of an eye in a CNN trained on real image data?\n",
    "\n",
    "Layer 2 filter\n",
    "\n",
    "\n",
    "#### Question 3\n",
    "Which of the following are example of deep CNNs given in the videos? \n",
    "\n",
    "* Classifying images\n",
    "* Digit recognition\n",
    "* Playing Go\n",
    "* Captioning images\n"
   ]
  },
  {
   "cell_type": "code",
   "execution_count": null,
   "metadata": {},
   "outputs": [],
   "source": [
    "\n"
   ]
  }
 ],
 "metadata": {
  "kernelspec": {
   "display_name": "Python 3",
   "language": "python",
   "name": "python3"
  },
  "language_info": {
   "codemirror_mode": {
    "name": "ipython",
    "version": 3
   },
   "file_extension": ".py",
   "mimetype": "text/x-python",
   "name": "python",
   "nbconvert_exporter": "python",
   "pygments_lexer": "ipython3",
   "version": "3.6.9"
  }
 },
 "nbformat": 4,
 "nbformat_minor": 2
}
