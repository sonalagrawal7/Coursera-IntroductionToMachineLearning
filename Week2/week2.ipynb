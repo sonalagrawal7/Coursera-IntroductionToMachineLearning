{
 "cells": [
  {
   "cell_type": "markdown",
   "metadata": {},
   "source": [
    "# Logistic Regression as Running Example\n"
   ]
  },
  {
   "cell_type": "markdown",
   "metadata": {},
   "source": [
    "## 3. Lesson One\n",
    "\n",
    "#### Question 1\n",
    "What is the purpose of a loss function?\n",
    "\n",
    "To define a penalty for poor predictions\n",
    "\n",
    "\n",
    "#### Question 2\n",
    "How is the loss function defined?\n",
    "\n",
    "Negative log-likelihood\n",
    "\n",
    "\n",
    "#### Question 3\n",
    "In the polynomial fitting example, which one of the following is an example of overfitting?\n",
    "\n",
    "Eighth order polynomial\n",
    "\n",
    "\n",
    "#### Question 4\n",
    "What is the “gold standard” validation strategy?\n",
    "\n",
    "Try on new real-world data\n",
    "\n",
    "\n",
    "#### Question 5\n",
    "When existing data is used to validate performance, into which of the following groups is data split? (Choose all that are correct.)\n",
    "\n",
    "* Test set\n",
    "* Validation set\n",
    "* Training set\n",
    "\n"
   ]
  },
  {
   "cell_type": "markdown",
   "metadata": {},
   "source": [
    "# Learning via Gradient Descent\n"
   ]
  },
  {
   "cell_type": "markdown",
   "metadata": {},
   "source": [
    "## 4. Lesson 2\n",
    "\n",
    "#### Question 1\n",
    "Which one of the following best describes one iteration of gradient descent?\n",
    "\n",
    "Find the slope at the current point. Step in the direction that is “downhill.”\n",
    "\n",
    "\n",
    "#### Question 2\n",
    "What is the name for multidimensional slope?\n",
    "\n",
    "Gradient\n",
    "\n",
    "\n",
    "#### Question 3\n",
    "What is the primary difference between stochastic gradient descent and gradient descent?\n",
    "\n",
    "Stochastic gradient descent estimates the gradient by choosing a data point at random.\n",
    "\n",
    "\n",
    "#### Question 4\n",
    "What is a minibatch?\n",
    "\n",
    "Running a few data examples, rather than all of the data.\n",
    "\n",
    "\n",
    "#### Question 5\n",
    "What is early stopping?\n",
    "\n",
    "During optimization loop, check the validation loss, and stop when it stops improving.\n",
    "\n"
   ]
  },
  {
   "cell_type": "code",
   "execution_count": null,
   "metadata": {},
   "outputs": [],
   "source": []
  }
 ],
 "metadata": {
  "kernelspec": {
   "display_name": "Python 3",
   "language": "python",
   "name": "python3"
  },
  "language_info": {
   "codemirror_mode": {
    "name": "ipython",
    "version": 3
   },
   "file_extension": ".py",
   "mimetype": "text/x-python",
   "name": "python",
   "nbconvert_exporter": "python",
   "pygments_lexer": "ipython3",
   "version": "3.6.9"
  }
 },
 "nbformat": 4,
 "nbformat_minor": 2
}
