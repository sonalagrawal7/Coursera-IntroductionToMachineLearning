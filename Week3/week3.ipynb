{
 "cells": [
  {
   "cell_type": "markdown",
   "metadata": {},
   "source": [
    "# Convolutional Neural Network Basics"
   ]
  },
  {
   "cell_type": "markdown",
   "metadata": {},
   "source": [
    "## 3. Lesson One\n",
    "\n",
    "#### Question 1\n",
    "What are sensitivity and specificity in the context of medical image diagnosis?\n",
    "\n",
    "Sensitivity is the ratio of true positives found to positives in the dataset, and specificity is the ratio of true negatives found to negatives in the dataset.\n",
    "\n",
    "\n",
    "#### Question 2\n",
    "In the figure from Gulshan et. al., how did the machine perform relative to the opthamologists for the task of diagnosing diabetic retinopathy?\n",
    "\n",
    "The machine outperformed 80% of ophthalmologists.\n",
    "\n",
    "\n",
    "#### Question 3\n",
    "A high value in the convolution indicates a  ____________ feature.\n",
    "\n",
    "matched\n",
    "\n",
    "\n",
    "#### Question 4\n",
    "What is the result of convolving a filter with a two dimensional image?\n",
    "\n",
    "A heat map, where bright spots indicate feature detection.\n",
    "\n"
   ]
  },
  {
   "cell_type": "markdown",
   "metadata": {},
   "source": [
    "# Core Components of the Network\n"
   ]
  },
  {
   "cell_type": "markdown",
   "metadata": {},
   "source": [
    "## 4. Lesson 2\n",
    "\n",
    "#### Question 1\n",
    "What is meant by “volume” of feature maps?\n",
    "\n",
    "Combining all of the feature maps for different features into a stack.\n",
    "\n",
    "\n",
    "#### Question 2\n",
    "How is color accounted for in a filter?\n",
    "\n",
    "Three color channels are separated to create a volume filter.\n",
    "\n",
    "\n",
    "#### Question 3\n",
    "Which of the following are example activation functions? (Choose all that are correct.)\n",
    "\n",
    "* Rectified linear unit\n",
    "* Sigmoid function\n",
    "* Hyperbolic tangent function\n",
    "\n",
    "\n",
    "#### Question 4\n",
    "Which of the following operations are used in pooling? (Choose all that are correct.)\n",
    "\n",
    "* Maximum\n",
    "* Mean\n",
    "\n",
    "\n",
    "#### Question 5\n",
    "What is a fully connected layer?\n",
    "\n",
    "A layer in which each data point is connected via a weight to the upstream elements.\n",
    "\n"
   ]
  },
  {
   "cell_type": "markdown",
   "metadata": {},
   "source": [
    "# CNN Implementation\n"
   ]
  },
  {
   "cell_type": "markdown",
   "metadata": {},
   "source": [
    "## 3. Lesson 3\n",
    "\n",
    "#### Question 1\n",
    "What is the goal of training the network?\n",
    "\n",
    "To learn filter parameters and the final readout weights that minimize the loss function.\n",
    "\n",
    "\n",
    "#### Question 2\n",
    "Which of the following is an example of leveraging all training data given in the lesson?\n",
    "\n",
    "Learning about the digit 9 by looking at the digit 7.\n",
    "\n",
    "\n",
    "#### Question 3\n",
    "What is transfer learning?\n",
    "\n",
    "Taking a network trained on a large database to do a classification task, the doing additional training in the domain of interest."
   ]
  },
  {
   "cell_type": "code",
   "execution_count": null,
   "metadata": {},
   "outputs": [],
   "source": []
  }
 ],
 "metadata": {
  "kernelspec": {
   "display_name": "Python 3",
   "language": "python",
   "name": "python3"
  },
  "language_info": {
   "codemirror_mode": {
    "name": "ipython",
    "version": 3
   },
   "file_extension": ".py",
   "mimetype": "text/x-python",
   "name": "python",
   "nbconvert_exporter": "python",
   "pygments_lexer": "ipython3",
   "version": "3.6.9"
  }
 },
 "nbformat": 4,
 "nbformat_minor": 2
}
